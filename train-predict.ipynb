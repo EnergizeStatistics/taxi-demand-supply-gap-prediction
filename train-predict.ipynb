{
 "cells": [
  {
   "cell_type": "markdown",
   "metadata": {},
   "source": [
    "# Taxi Demand-Supply Gap Prediction #"
   ]
  },
  {
   "cell_type": "markdown",
   "metadata": {},
   "source": [
    "## Load Packages ##"
   ]
  },
  {
   "cell_type": "code",
   "execution_count": 101,
   "metadata": {},
   "outputs": [],
   "source": [
    "import pandas as pd\n",
    "import numpy as np\n",
    "import gc\n",
    "\n",
    "from datetime import datetime, timedelta  \n",
    "\n",
    "import sklearn\n",
    "import seaborn as sns\n",
    "# import matplotlib.image as image\n",
    "import matplotlib.pylab as plt\n",
    "\n",
    "from sklearn.preprocessing import LabelEncoder, StandardScaler, OneHotEncoder\n",
    "\n",
    "import lightgbm as lgb\n",
    "\n",
    "from sklearn.model_selection import GridSearchCV\n",
    "from sklearn.metrics import mean_squared_error, mean_absolute_error\n",
    "\n",
    "# from keras.models import Sequential\n",
    "# from keras.layers import Dense\n",
    "# from keras.wrappers.scikit_learn import KerasRegressor\n",
    "# from sklearn.model_selection import cross_val_score, KFold\n",
    "# from sklearn.pipeline import Pipeline\n",
    "\n",
    "# fix random seed for reproducibility\n",
    "seed = 0\n",
    "np.random.seed(seed)"
   ]
  },
  {
   "cell_type": "markdown",
   "metadata": {},
   "source": [
    "## Import Processed Data ##"
   ]
  },
  {
   "cell_type": "code",
   "execution_count": 2,
   "metadata": {},
   "outputs": [],
   "source": [
    "data_dir = \"/home/lee/Documents/DatasetsForGitHub/Taxi_Trajectory_Prediction/\"\n",
    "df_train = pd.read_pickle(data_dir+\"train.pkl\")\n",
    "df_test = pd.read_pickle(data_dir+\"test.pkl\")"
   ]
  },
  {
   "cell_type": "code",
   "execution_count": 10,
   "metadata": {},
   "outputs": [],
   "source": [
    "# create X, Y for model input\n",
    "X_train = df_train.drop(['gap_forecast'], axis = 1)\n",
    "y_train = df_train['gap_forecast']\n",
    "\n",
    "X_test = df_test.drop(['gap_forecast'], axis = 1)\n",
    "y_test = df_test['gap_forecast']"
   ]
  },
  {
   "cell_type": "markdown",
   "metadata": {},
   "source": [
    "## Train Model ##"
   ]
  },
  {
   "cell_type": "markdown",
   "metadata": {},
   "source": [
    "After comparing the performances, we choose to not one-hot encode the week, day of week, hour, and time window features. However, we still need to keep in mind that these features are categorical. "
   ]
  },
  {
   "cell_type": "code",
   "execution_count": 33,
   "metadata": {},
   "outputs": [],
   "source": [
    "# X = np.vstack([X_train, X_test])\n",
    "# y = np.vstack([y_train, y_test])"
   ]
  },
  {
   "cell_type": "markdown",
   "metadata": {},
   "source": [
    "Hyperparameter tuning:"
   ]
  },
  {
   "cell_type": "code",
   "execution_count": null,
   "metadata": {},
   "outputs": [],
   "source": [
    "param_grid = {'max_bin': [20, 50], \n",
    "             'learning_rate': [0.01, 0.05, 0.1],\n",
    "             'num_leaves': [32, 64]}\n",
    "\n",
    "gsearch = GridSearchCV(estimator=lgb.LGBMRegressor(), \n",
    "                       param_grid=param_grid, \n",
    "                       cv=5, scoring='neg_mean_absolute_error') \n",
    "\n",
    "lgb_model = gsearch.fit(X_train, y_train)"
   ]
  },
  {
   "cell_type": "code",
   "execution_count": 37,
   "metadata": {},
   "outputs": [
    {
     "name": "stdout",
     "output_type": "stream",
     "text": [
      "Hyperparameters selected by cross-validation:  {'learning_rate': 0.1, 'max_bin': 50, 'num_leaves': 64}\n"
     ]
    }
   ],
   "source": [
    "print('Hyperparameters selected by cross-validation: ', lgb_model.best_params_)\n",
    "# lgb_model.best_score_"
   ]
  },
  {
   "cell_type": "code",
   "execution_count": 44,
   "metadata": {},
   "outputs": [
    {
     "data": {
      "text/plain": [
       "LGBMRegressor(boosting_type='gbdt', class_weight=None, colsample_bytree=1.0,\n",
       "       learning_rate=0.1, max_bin=50, max_depth=-1, min_child_samples=20,\n",
       "       min_child_weight=0.001, min_split_gain=0.0, n_estimators=100,\n",
       "       n_jobs=-1, num_leaves=64, objective=None, random_state=0,\n",
       "       reg_alpha=0.0, reg_lambda=0.0, silent=True, subsample=1.0,\n",
       "       subsample_for_bin=200000, subsample_freq=0)"
      ]
     },
     "execution_count": 44,
     "metadata": {},
     "output_type": "execute_result"
    }
   ],
   "source": [
    "reg_lgb = lgb.LGBMRegressor(learning_rate=lgb_model.best_params_['learning_rate'], \n",
    "                            max_bin=lgb_model.best_params_['max_bin'], \n",
    "                            num_leaves=lgb_model.best_params_['num_leaves'], \n",
    "                            random_state=0)\n",
    "reg_lgb.fit(X_train, y_train)"
   ]
  },
  {
   "cell_type": "markdown",
   "metadata": {},
   "source": [
    "Performance:"
   ]
  },
  {
   "cell_type": "code",
   "execution_count": 48,
   "metadata": {},
   "outputs": [
    {
     "name": "stdout",
     "output_type": "stream",
     "text": [
      "MAE in training set: 0.21295838974467302\n",
      "MAE in test set: 0.19307741554963068\n"
     ]
    }
   ],
   "source": [
    "print('MAE in training set: {}'.format(mean_absolute_error(y_train, reg_lgb.predict(X_train))))\n",
    "print('MAE in test set: {}'.format(mean_absolute_error(y_test, reg_lgb.predict(X_test))))"
   ]
  },
  {
   "cell_type": "markdown",
   "metadata": {},
   "source": [
    "## Predict the Gap ##"
   ]
  },
  {
   "cell_type": "markdown",
   "metadata": {},
   "source": [
    "Merge predictions to the hold-out test set. "
   ]
  },
  {
   "cell_type": "code",
   "execution_count": 60,
   "metadata": {},
   "outputs": [],
   "source": [
    "results = pd.concat([df_test.reset_index(), pd.DataFrame(reg_lgb.predict(X_test), columns=['gap_forecast_pred'])], axis=1)\n",
    "# results['actual_prediction'] = results['gap_forecast'] - results['gap_forecast_pred']\n",
    "\n",
    "results.set_index('index', inplace=True)\n",
    "\n",
    "results['frame'] = results['week'].astype(str) + \"-\" + results['dayofweek'].astype(str) + \"-\" \\\n",
    "                    + results['time_window'].astype(str)"
   ]
  },
  {
   "cell_type": "markdown",
   "metadata": {},
   "source": [
    "Format time windows to be user friendly. "
   ]
  },
  {
   "cell_type": "code",
   "execution_count": 61,
   "metadata": {},
   "outputs": [],
   "source": [
    "g = results.drop(['week', 'dayofweek', 'time_window'], axis=1)\n",
    "\n",
    "le = LabelEncoder()\n",
    "g['frame_le'] = le.fit_transform(g['frame'])"
   ]
  },
  {
   "cell_type": "markdown",
   "metadata": {},
   "source": [
    "Sample heatmap of the gap for one time window:"
   ]
  },
  {
   "cell_type": "code",
   "execution_count": 109,
   "metadata": {},
   "outputs": [
    {
     "data": {
      "image/png": "[encoded data removed]",
      "text/plain": [
       "<Figure size 1152x360 with 4 Axes>"
      ]
     },
     "metadata": {
      "needs_background": "light"
     },
     "output_type": "display_data"
    }
   ],
   "source": [
    "t = 72\n",
    "\n",
    "time_window = 30\n",
    "\n",
    "lat_min, lat_max = 41.04961, 41.24961\n",
    "lon_min, lon_max = -8.71099, -8.51099\n",
    "\n",
    "# inverse-transform the time window to the starting date and time\n",
    "we, da, tw = np.asscalar(le.inverse_transform([t])).split('-')\n",
    "\n",
    "start_t = datetime.strptime('2013' + '-' + str(int(float(we))) + '-' + str(int(float(da))) + '-'\n",
    "                      + str(int(float(tw) * time_window / 60)) + '-' \n",
    "                      + str(int(float(tw) * time_window % 60)), \"%Y-%W-%w-%H-%M\")\n",
    "\n",
    "r = g[g['frame_le'] == t]\n",
    "\n",
    "real_forecast = r.groupby(by=['lon_localized', 'lat_localized'], as_index=False)['gap_forecast'].sum()\n",
    "pred = r.groupby(by=['lon_localized', 'lat_localized'], as_index=False)['gap_forecast_pred'].sum()\n",
    "# delta = r.groupby(by=['lon_localized', 'lat_localized'], as_index=False)['actual_prediction'].sum()\n",
    "\n",
    "#     im = image.imread('porto.png')\n",
    "fig, (ax1, ax2) = plt.subplots(ncols=2, sharey=True, figsize=(16,5))\n",
    "ax1.set_title(\"Actual Gap\")\n",
    "ax2.set_title(\"Predicted Gap\")\n",
    "\n",
    "fig.suptitle('Current time window: {} - {}\\n Demand-Supply Gap for the next {} minutes'\\\n",
    "             .format(start_t, start_t+timedelta(minutes=time_window), time_window), fontsize=14)\n",
    "\n",
    "real_forecast = real_forecast.pivot('lat_localized', 'lon_localized', 'gap_forecast')\n",
    "pred = pred.pivot('lat_localized', 'lon_localized', 'gap_forecast_pred')\n",
    "# deltaS = delta.pivot('lat_localized', 'lon_localized', 'actual_prediction')\n",
    "\n",
    "f1 = sns.heatmap(real_forecast, ax=ax1, vmin=-5, vmax=5, cmap='seismic', alpha=0.6)\n",
    "f2 = sns.heatmap(pred, ax=ax2, vmin=-5, vmax=5, cmap='seismic', alpha=0.6)\n",
    "f1.set_xticklabels(np.around(np.arange(lon_min, lon_max, 0.01), 3))\n",
    "f2.set_xticklabels(np.around(np.arange(lon_min, lon_max, 0.01), 3))\n",
    "f1.set_yticklabels(np.around(np.arange(lat_min, lat_max, 0.01), 3))\n",
    "f1.set_yticklabels(np.around(np.arange(lat_min, lat_max, 0.01), 3))\n",
    "f1.set(xlabel='longitude', ylabel='latitude')\n",
    "f2.set(xlabel='longitude', ylabel='latitude')\n",
    "f2.invert_yaxis()\n",
    "\n",
    "plt.show()"
   ]
  },
  {
   "cell_type": "markdown",
   "metadata": {},
   "source": [
    "In this sample, our approach successfully predicts the areas with the highest demand-supply gaps (darkest red). The predicted heatmap also displays the areas with excess taxi supply. "
   ]
  },
  {
   "cell_type": "code",
   "execution_count": null,
   "metadata": {},
   "outputs": [],
   "source": [
    "# # define the model\n",
    "# def larger_model():\n",
    "#     # create model\n",
    "#     model = Sequential()\n",
    "#     model.add(Dense(32, input_dim=19, kernel_initializer='normal', activation='relu'))\n",
    "#     model.add(Dense(8, kernel_initializer='normal', activation='relu'))\n",
    "#     model.add(Dense(1, kernel_initializer='normal'))\n",
    "#     # Compile model\n",
    "#     model.compile(loss='mean_squared_error', optimizer='adam')\n",
    "#     return model\n",
    "\n",
    "\n",
    "# # fix random seed for reproducibility\n",
    "# seed = 0\n",
    "# np.random.seed(seed)\n",
    "\n",
    "# epochs = 32\n",
    "# batch_size = 5\n",
    "    \n",
    "# # evaluate model with standardized dataset\n",
    "# estimator = KerasRegressor(build_fn=larger_model, epochs=epochs, batch_size=batch_size, verbose=1)\n",
    "\n",
    "# kfold = KFold(n_splits=5, random_state=seed)\n",
    "# results = cross_val_score(estimator, X_train, y_train, cv=kfold)"
   ]
  }
 ],
 "metadata": {
  "kernelspec": {
   "display_name": "Python 3",
   "language": "python",
   "name": "python3"
  },
  "language_info": {
   "codemirror_mode": {
    "name": "ipython",
    "version": 3
   },
   "file_extension": ".py",
   "mimetype": "text/x-python",
   "name": "python",
   "nbconvert_exporter": "python",
   "pygments_lexer": "ipython3",
   "version": "3.6.6"
  }
 },
 "nbformat": 4,
 "nbformat_minor": 2
}
