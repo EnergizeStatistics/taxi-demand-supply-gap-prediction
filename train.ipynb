{
 "cells": [
  {
   "cell_type": "code",
   "execution_count": null,
   "metadata": {},
   "outputs": [],
   "source": []
  },
  {
   "cell_type": "code",
   "execution_count": 1,
   "metadata": {},
   "outputs": [],
   "source": [
    "import pandas as pd\n",
    "\n",
    "from keras.models import Sequential\n",
    "from keras.layers import Dense\n",
    "from keras.wrappers.scikit_learn import KerasRegressor\n",
    "from sklearn.model_selection import cross_val_score\n",
    "from sklearn.model_selection import KFold\n",
    "from sklearn.preprocessing import StandardScaler\n",
    "from sklearn.pipeline import Pipeline\n",
    "import numpy as np\n",
    "\n",
    "\n",
    "from sklearn.preprocessing import StandardScaler \n",
    "# from sklearn.ensemble import RandomForestRegressor\n",
    "from sklearn.metrics import mean_squared_error\n",
    "# from sklearn.externals import joblib\n",
    "\n",
    "import lightgbm as lgb\n",
    "\n",
    "import gc\n",
    "\n",
    "\n",
    "# fix random seed for reproducibility\n",
    "seed = 0\n",
    "np.random.seed(seed)"
   ]
  },
  {
   "cell_type": "code",
   "execution_count": 3,
   "metadata": {},
   "outputs": [],
   "source": [
    "# import processed_data\n",
    "data_dir = \"/home/lee/Documents/DatasetsForGitHub/Taxi_Trajectory_Prediction/\"\n",
    "df_train = pd.read_pickle(data_dir+\"train.pkl\")\n",
    "df_test = pd.read_pickle(data_dir+\"test.pkl\")"
   ]
  },
  {
   "cell_type": "code",
   "execution_count": 9,
   "metadata": {},
   "outputs": [],
   "source": [
    "#create X, Y for model input\n",
    "X_train = df_train.drop(['gap_forecast'], axis = 1)\n",
    "y_train = df_train['gap_forecast']\n",
    "\n",
    "X_test = df_test.drop(['gap_forecast'], axis = 1)\n",
    "y_test = df_test['gap_forecast']\n",
    "\n",
    "#scale data\n",
    "scaler = StandardScaler()\n",
    "scaler.fit(X_train)  \n",
    "\n",
    "#transform data based on scaler\n",
    "X_train = scaler.transform(X_train)  \n",
    "X_test = scaler.transform(X_test)"
   ]
  },
  {
   "cell_type": "code",
   "execution_count": 11,
   "metadata": {},
   "outputs": [
    {
     "data": {
      "text/plain": [
       "(16773120, 19)"
      ]
     },
     "execution_count": 11,
     "metadata": {},
     "output_type": "execute_result"
    }
   ],
   "source": [
    "X_train.shape"
   ]
  },
  {
   "cell_type": "code",
   "execution_count": 10,
   "metadata": {},
   "outputs": [
    {
     "data": {
      "text/plain": [
       "LGBMRegressor(boosting_type='gbdt', class_weight=None, colsample_bytree=1.0,\n",
       "       learning_rate=0.1, max_depth=-1, min_child_samples=20,\n",
       "       min_child_weight=0.001, min_split_gain=0.0, n_estimators=100,\n",
       "       n_jobs=-1, num_leaves=31, objective=None, random_state=0,\n",
       "       reg_alpha=0.0, reg_lambda=0.0, silent=True, subsample=1.0,\n",
       "       subsample_for_bin=200000, subsample_freq=0)"
      ]
     },
     "execution_count": 10,
     "metadata": {},
     "output_type": "execute_result"
    }
   ],
   "source": [
    "reg_lgb = lgb.LGBMRegressor(random_state=0)\n",
    "reg_lgb.fit(X_train, y_train)"
   ]
  },
  {
   "cell_type": "code",
   "execution_count": 20,
   "metadata": {},
   "outputs": [
    {
     "name": "stdout",
     "output_type": "stream",
     "text": [
      "0.1661852924035559\n",
      "0.15680317537677682\n"
     ]
    }
   ],
   "source": [
    "#determine accuracy\n",
    "\n",
    "print(mean_squared_error(y_train, reg_lgb.predict(X_train)))\n",
    "print(mean_squared_error(y_test, reg_lgb.predict(X_test)))"
   ]
  },
  {
   "cell_type": "code",
   "execution_count": 22,
   "metadata": {},
   "outputs": [],
   "source": [
    "import pandas as pd\n",
    "import seaborn as sns\n",
    "import matplotlib.image as image\n",
    "import matplotlib.pylab as plt\n",
    "from sklearn.preprocessing import LabelEncoder"
   ]
  },
  {
   "cell_type": "code",
   "execution_count": null,
   "metadata": {},
   "outputs": [],
   "source": [
    "\n",
    "results = pd.concat([df_test, reg_lgb.predict(X_test)], axis=1)\n",
    "results['FRAME'] = results['week'].astype(str) + \"-\" + results['dayofweek'].astype(str) + \"-\" \\\n",
    "                    + results['time_window'].astype(str)\n",
    "\n",
    "#split result based on timefram based on the timesteps\n",
    "g = results.drop(['week', 'dayofweek', 'time_window'], axis=1)\n",
    "g['FRAME'] = LabelEncoder().fit_transform(g.FRAME)\n",
    "\n",
    "print 'create frame output...'\n",
    "#create frame output\n",
    "for t in range(600, 888):\n",
    "    r = g[g.FRAME == t]\n",
    "    \n",
    "    FC = r.groupby(by=['X', 'Y'], as_index=False).GAP_FCST.sum()\n",
    "    PRED = r.groupby(by=['X', 'Y'], as_index=False).GAP_PRED.sum()\n",
    "    \n",
    "    im = image.imread('porto.png')\n",
    "    fig, (ax1, ax2) = plt.subplots(ncols=2, sharey=True, figsize=(16,5))\n",
    "    ax1.set_title(\"PREDICTED GAP\")\n",
    "    ax2.set_title(\"ACTUAL GAP\")\n",
    "\n",
    "    ax1.imshow(im, extent=[0,10,0,7], aspect='auto')\n",
    "    ax2.imshow(im, extent=[0,10,0,7], aspect='auto')\n",
    "    \n",
    "    FCS = FC.pivot('Y', 'X', 'GAP_FCST')\n",
    "    PREDS = PRED.pivot('Y', 'X', 'GAP_PRED')\n",
    "       \n",
    "    f1=sns.heatmap(PREDS, ax=ax1, vmin=-10, vmax=10, cmap='seismic', alpha=0.6, robust=True)\n",
    "    f2=sns.heatmap(FCS, ax=ax2, vmin=-10, vmax=10, cmap='seismic', alpha=0.6)\n",
    "    \n",
    "    f1.invert_yaxis()\n",
    "    \n",
    "    fig.savefig(\"output/file_\" + str(t) + \".png\")\n",
    "    fig.clf()\n",
    "    plt.close(fig)"
   ]
  },
  {
   "cell_type": "code",
   "execution_count": null,
   "metadata": {},
   "outputs": [],
   "source": [
    "# # define the model\n",
    "# def larger_model():\n",
    "#     # create model\n",
    "#     model = Sequential()\n",
    "#     model.add(Dense(32, input_dim=19, kernel_initializer='normal', activation='relu'))\n",
    "#     model.add(Dense(8, kernel_initializer='normal', activation='relu'))\n",
    "#     model.add(Dense(1, kernel_initializer='normal'))\n",
    "#     # Compile model\n",
    "#     model.compile(loss='mean_squared_error', optimizer='adam')\n",
    "#     return model\n",
    "\n",
    "\n",
    "# # fix random seed for reproducibility\n",
    "# seed = 0\n",
    "# np.random.seed(seed)\n",
    "\n",
    "# epochs = 32\n",
    "# batch_size = 5\n",
    "    \n",
    "# # evaluate model with standardized dataset\n",
    "# estimator = KerasRegressor(build_fn=larger_model, epochs=epochs, batch_size=batch_size, verbose=1)\n",
    "\n",
    "# kfold = KFold(n_splits=5, random_state=seed)\n",
    "# results = cross_val_score(estimator, X_train, y_train, cv=kfold)"
   ]
  }
 ],
 "metadata": {
  "kernelspec": {
   "display_name": "Python 3",
   "language": "python",
   "name": "python3"
  },
  "language_info": {
   "codemirror_mode": {
    "name": "ipython",
    "version": 3
   },
   "file_extension": ".py",
   "mimetype": "text/x-python",
   "name": "python",
   "nbconvert_exporter": "python",
   "pygments_lexer": "ipython3",
   "version": "3.6.6"
  }
 },
 "nbformat": 4,
 "nbformat_minor": 2
}
